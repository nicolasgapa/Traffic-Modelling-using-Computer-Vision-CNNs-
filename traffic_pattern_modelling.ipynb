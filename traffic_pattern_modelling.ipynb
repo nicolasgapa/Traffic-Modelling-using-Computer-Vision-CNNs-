{
  "nbformat": 4,
  "nbformat_minor": 0,
  "metadata": {
    "accelerator": "GPU",
    "colab": {
      "name": "traffic_pattern_modelling.ipynb",
      "provenance": [],
      "collapsed_sections": [],
      "machine_shape": "hm"
    },
    "kernelspec": {
      "display_name": "Python 3",
      "name": "python3"
    }
  },
  "cells": [
    {
      "cell_type": "code",
      "metadata": {
        "colab": {
          "base_uri": "https://localhost:8080/"
        },
        "id": "19G4SaYE_rh3",
        "outputId": "e74a67d6-7948-4198-fdb6-1991692a22b4"
      },
      "source": [
        "# Mount google drive.\n",
        "from google.colab import drive\n",
        "drive.mount('/content/drive', force_remount=True)\n",
        "\n",
        "# Imports.\n",
        "import numpy as np\n",
        "import pandas as pd\n",
        "import matplotlib.dates as mdates\n",
        "import matplotlib.pyplot as plt\n",
        "from datetime import timedelta, time, date, datetime\n",
        "import os"
      ],
      "execution_count": 5,
      "outputs": [
        {
          "output_type": "stream",
          "text": [
            "Mounted at /content/drive\n"
          ],
          "name": "stdout"
        }
      ]
    },
    {
      "cell_type": "code",
      "metadata": {
        "id": "FsdfaZEnpbXc"
      },
      "source": [
        "# Inputs.\n",
        "initial_time  = time(8, 0, 35) # Time at which the recordings started.\n",
        "n = 300\n",
        "label = 'car'\n",
        "directory = os.getcwd() + \"/drive/My Drive/MA305_Project/transfer_video/traffic_data.npy\""
      ],
      "execution_count": 11,
      "outputs": []
    },
    {
      "cell_type": "code",
      "metadata": {
        "colab": {
          "base_uri": "https://localhost:8080/",
          "height": 35
        },
        "id": "WP2LFouKqIDd",
        "outputId": "32c5a326-53c1-4417-bc90-09e0be2a4d15"
      },
      "source": [
        "directory"
      ],
      "execution_count": 18,
      "outputs": [
        {
          "output_type": "execute_result",
          "data": {
            "application/vnd.google.colaboratory.intrinsic+json": {
              "type": "string"
            },
            "text/plain": [
              "'/content/drive/My Drive/MA305_Project/transfer_video/traffic_data.npy'"
            ]
          },
          "metadata": {
            "tags": []
          },
          "execution_count": 18
        }
      ]
    },
    {
      "cell_type": "code",
      "metadata": {
        "id": "qF4LraytphNd"
      },
      "source": [
        "\n",
        "# Import labels array.\n",
        "full_array = np.load(directory, allow_pickle=True)\n",
        "    \n",
        "# Identify objects. \n",
        "times_array = []\n",
        "obj_ct_array = np.zeros((full_array.shape[0], 60))\n",
        "for i, element in enumerate(full_array):\n",
        "    if len(element) > 0:\n",
        "        cts = [element.count(i) for i in range(0, 60)]\n",
        "        obj_ct_array[i] = cts\n",
        "    times_array.append(i)"
      ],
      "execution_count": 12,
      "outputs": []
    },
    {
      "cell_type": "code",
      "metadata": {
        "id": "8TIOk_SdpjBf"
      },
      "source": [
        "# Define labels.\n",
        "with open(\"/content/drive/My Drive/MA305_Project/transfer_video/coco.csv\", 'r') as lines:\n",
        "  coco_labels = lines.readlines()[0].split(',')\n",
        "    \n",
        "# Moving average.\n",
        "series = pd.Series(obj_ct_array[:, coco_labels.index(label)])\n",
        "moving_average = series.rolling(n).mean()"
      ],
      "execution_count": 19,
      "outputs": []
    },
    {
      "cell_type": "code",
      "metadata": {
        "colab": {
          "base_uri": "https://localhost:8080/",
          "height": 271
        },
        "id": "2YCRvUWDp3lv",
        "outputId": "fe3c5f61-f54b-4f4e-b617-0144f9d5fe31"
      },
      "source": [
        "# Plot.\n",
        "dt_initial = datetime.combine(date.today(), initial_time)\n",
        "times = [dt_initial + timedelta(seconds=i) for i in times_array]\n",
        "plt.plot(times, moving_average, '-')\n",
        "plt.gcf().autofmt_xdate()\n",
        "myFmt = mdates.DateFormatter('%H:%M')\n",
        "plt.gca().xaxis.set_major_formatter(myFmt)\n",
        "plt.ylabel('Average objects per frame. \\n Class: {}.'.format(label))\n",
        "plt.xlabel('Time of the day')\n",
        "plt.show()"
      ],
      "execution_count": 20,
      "outputs": [
        {
          "output_type": "display_data",
          "data": {
            "image/png": "[encoded data removed]",
            "text/plain": [
              "<Figure size 432x288 with 1 Axes>"
            ]
          },
          "metadata": {
            "tags": [],
            "needs_background": "light"
          }
        }
      ]
    }
  ]
}